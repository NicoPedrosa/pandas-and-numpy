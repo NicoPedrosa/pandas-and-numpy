{
 "cells": [
  {
   "cell_type": "code",
   "execution_count": 26,
   "metadata": {},
   "outputs": [],
   "source": [
    "import pandas as pd"
   ]
  },
  {
   "cell_type": "code",
   "execution_count": 27,
   "metadata": {},
   "outputs": [],
   "source": [
    "df = pd.read_excel('FED PAT COBROS.xlsx', sheet_name='FP COBROS')"
   ]
  },
  {
   "cell_type": "code",
   "execution_count": 28,
   "metadata": {},
   "outputs": [
    {
     "name": "stdout",
     "output_type": "stream",
     "text": [
      "<class 'pandas.core.frame.DataFrame'>\n",
      "RangeIndex: 11001 entries, 0 to 11000\n",
      "Data columns (total 14 columns):\n",
      " #   Column                Non-Null Count  Dtype  \n",
      "---  ------                --------------  -----  \n",
      " 0   ID                    11001 non-null  object \n",
      " 1   Fec. Ing.             11001 non-null  object \n",
      " 2   Ingreso               11001 non-null  int64  \n",
      " 3   Fec. Cobro            11001 non-null  object \n",
      " 4   Asegurado             11001 non-null  object \n",
      " 5   Cuota                 11001 non-null  object \n",
      " 6   Recibo                11000 non-null  float64\n",
      " 7   Póliza                11001 non-null  object \n",
      " 8   Compañía              11001 non-null  object \n",
      " 9   Mon.                  11001 non-null  object \n",
      " 10  Mto. Pagado           11001 non-null  float64\n",
      " 11  Origen                11001 non-null  object \n",
      " 12  Cobrador              11001 non-null  int64  \n",
      " 13  Numero De Referencia  10841 non-null  float64\n",
      "dtypes: float64(3), int64(2), object(9)\n",
      "memory usage: 1.2+ MB\n",
      "None\n"
     ]
    }
   ],
   "source": [
    "print(df.info())"
   ]
  },
  {
   "cell_type": "code",
   "execution_count": 29,
   "metadata": {},
   "outputs": [
    {
     "name": "stdout",
     "output_type": "stream",
     "text": [
      "Detalle de Nulos:\n",
      "ID                        0\n",
      "Fec. Ing.                 0\n",
      "Ingreso                   0\n",
      "Fec. Cobro                0\n",
      "Asegurado                 0\n",
      "Cuota                     0\n",
      "Recibo                    1\n",
      "Póliza                    0\n",
      "Compañía                  0\n",
      "Mon.                      0\n",
      "Mto. Pagado               0\n",
      "Origen                    0\n",
      "Cobrador                  0\n",
      "Numero De Referencia    160\n",
      "dtype: int64\n"
     ]
    }
   ],
   "source": [
    "print('Detalle de Nulos:')\n",
    "print(df.isnull().sum())"
   ]
  },
  {
   "cell_type": "code",
   "execution_count": 30,
   "metadata": {},
   "outputs": [
    {
     "name": "stdout",
     "output_type": "stream",
     "text": [
      "            Ingreso        Recibo    Mto. Pagado      Cobrador  \\\n",
      "count  1.100100e+04  1.100000e+04   11001.000000  11001.000000   \n",
      "mean   1.688660e+07  7.529566e+12    4734.062164      0.513317   \n",
      "std    7.538783e+05  1.048155e+14   14085.033470     17.024860   \n",
      "min    1.579043e+07  2.233376e+08       7.700000      0.000000   \n",
      "25%    1.629453e+07  1.283626e+10     134.000000      0.000000   \n",
      "50%    1.691711e+07  4.297317e+10     319.000000      0.000000   \n",
      "75%    1.765874e+07  1.922695e+11    3005.000000      0.000000   \n",
      "max    1.802115e+07  1.922929e+15  359040.560000    717.000000   \n",
      "\n",
      "       Numero De Referencia  \n",
      "count          1.084100e+04  \n",
      "mean           2.806187e+07  \n",
      "std            2.770460e+06  \n",
      "min            2.338599e+07  \n",
      "25%            2.550720e+07  \n",
      "50%            2.823136e+07  \n",
      "75%            3.056592e+07  \n",
      "max            3.312646e+07  \n"
     ]
    }
   ],
   "source": [
    "print(df.describe())"
   ]
  },
  {
   "cell_type": "code",
   "execution_count": 31,
   "metadata": {},
   "outputs": [
    {
     "name": "stdout",
     "output_type": "stream",
     "text": [
      "Cantidad de nulos:\n",
      "ID                        0\n",
      "Fec. Ing.                 0\n",
      "Ingreso                   0\n",
      "Fec. Cobro                0\n",
      "Asegurado                 0\n",
      "Cuota                     0\n",
      "Recibo                    1\n",
      "Póliza                    0\n",
      "Compañía                  0\n",
      "Mon.                      0\n",
      "Mto. Pagado               0\n",
      "Origen                    0\n",
      "Cobrador                  0\n",
      "Numero De Referencia    160\n",
      "dtype: int64\n"
     ]
    }
   ],
   "source": [
    "print('Cantidad de nulos:')\n",
    "print(df.isnull().sum())"
   ]
  },
  {
   "cell_type": "code",
   "execution_count": 32,
   "metadata": {},
   "outputs": [],
   "source": [
    "from sklearn.impute import SimpleImputer\n",
    "import numpy as np "
   ]
  },
  {
   "cell_type": "code",
   "execution_count": 33,
   "metadata": {},
   "outputs": [
    {
     "name": "stdout",
     "output_type": "stream",
     "text": [
      "Origen\n",
      "CAJA SELF PRODUCTORES                87893.27\n",
      "CAJA WEB ASEGURADOS                  18398.84\n",
      "COBRO EXPRESS ONLINE                  9937.00\n",
      "COBRO EXPRESS PRODUCTOR ONLINE      386705.39\n",
      "DEB AUT AMEX                         66954.62\n",
      "DEB AUT CBU                         433229.25\n",
      "DEB AUT MASTERCARD                   79844.46\n",
      "DEB AUT NARANJA                      11836.46\n",
      "DEB AUT VISA                        911119.42\n",
      "DEBITO AUTOMATICO                  1016439.17\n",
      "MOSTRADOR WEB                        54926.76\n",
      "PAGO FACIL OFFLINE (AJUSTE)          14333.44\n",
      "PAGO FACIL ONLINE                 17483289.22\n",
      "PAGO MIS CUENTAS                   2759518.24\n",
      "PAGOS LINK                        14059453.67\n",
      "PLUSPAGOS ONLINE                      2388.23\n",
      "PRISMA -VISA DEBITO-                 73347.80\n",
      "PRODUCTOR                             2708.00\n",
      "PRONTO PAGO ONLINE                    1727.11\n",
      "PROVINCIA NET ONLINE                 67592.57\n",
      "RAPIPAGO OFF LINE                     9089.87\n",
      "RAPIPAGO ONLINE                   14526826.86\n",
      "VISA PAGO PUNTUAL                     1858.22\n",
      "Name: Mto. Pagado, dtype: float64\n"
     ]
    }
   ],
   "source": [
    "cobros_por_origen = df.groupby('Origen')['Mto. Pagado'].sum()\n",
    "\n",
    "print(cobros_por_origen)"
   ]
  },
  {
   "cell_type": "code",
   "execution_count": 34,
   "metadata": {},
   "outputs": [
    {
     "name": "stdout",
     "output_type": "stream",
     "text": [
      "Mto. Pagado    52079417.87\n",
      "dtype: float64\n"
     ]
    }
   ],
   "source": [
    "print(df[['Mto. Pagado']].sum())"
   ]
  },
  {
   "cell_type": "code",
   "execution_count": 35,
   "metadata": {},
   "outputs": [
    {
     "name": "stdout",
     "output_type": "stream",
     "text": [
      "Mto. Pagado    319.0\n",
      "dtype: float64\n"
     ]
    }
   ],
   "source": [
    "print(df[['Mto. Pagado']].median())"
   ]
  },
  {
   "cell_type": "code",
   "execution_count": 36,
   "metadata": {},
   "outputs": [
    {
     "name": "stdout",
     "output_type": "stream",
     "text": [
      "Mto. Pagado\n",
      "7.70         1\n",
      "8.02         1\n",
      "16.14        1\n",
      "23.00        1\n",
      "24.50        1\n",
      "            ..\n",
      "251443.16    1\n",
      "287596.88    1\n",
      "332225.75    1\n",
      "356618.69    1\n",
      "359040.56    1\n",
      "Length: 3206, dtype: int64\n"
     ]
    }
   ],
   "source": [
    "print(df.groupby('Mto. Pagado').size())"
   ]
  },
  {
   "cell_type": "code",
   "execution_count": 37,
   "metadata": {},
   "outputs": [
    {
     "name": "stdout",
     "output_type": "stream",
     "text": [
      "        ID   Fec. Ing.   Ingreso  Fec. Cobro                   Asegurado  \\\n",
      "1723  1250  21/01/2020  15812590  19/01/2020      RICCA FACUNDO HORACIO    \n",
      "1725  1250  21/01/2020  15812590  19/01/2020      RICCA FACUNDO HORACIO    \n",
      "1726  1250  21/01/2020  15812590  19/01/2020      RICCA FACUNDO HORACIO    \n",
      "2263  1845  05/01/2021  16292184  04/01/2021  DE NIGRIS CLAUDIO ALEJAND    \n",
      "2274   117  05/01/2021  16292184  04/01/2021              AVILA GELACIO    \n",
      "...    ...         ...       ...         ...                         ...   \n",
      "4971  1049  10/03/2022  16842774  08/03/2022         MUZI MARIA EUGENIA    \n",
      "4979  1049  10/03/2022  16842774  08/03/2022         MUZI MARIA EUGENIA    \n",
      "4986  1049  10/03/2022  16842774  08/03/2022         MUZI MARIA EUGENIA    \n",
      "5055   350  17/03/2022  16852543  15/03/2022        CHENA JULIAN BENITO    \n",
      "5059   350  17/03/2022  16852543  15/03/2022        CHENA JULIAN BENITO    \n",
      "\n",
      "           Cuota        Recibo         Póliza                     Compañía  \\\n",
      "1723    Cta.3/12  1.921176e+11  19/21176368/0  726 Fed.Patronal Seguros SA   \n",
      "1725    Cta.3/12  1.257390e+10   12/5739008/0  726 Fed.Patronal Seguros SA   \n",
      "1726     Cta.3/6  4.257013e+10   4/25701340/0  726 Fed.Patronal Seguros SA   \n",
      "2263    Cta.2/12  1.262572e+10   12/6257188/0  726 Fed.Patronal Seguros SA   \n",
      "2274    Cta.1/12  1.921820e+11  19/21820117/0  726 Fed.Patronal Seguros SA   \n",
      "...          ...           ...            ...                          ...   \n",
      "4971   Cta.12/12  1.923231e+12  19/23231378/0  726 Fed.Patronal Seguros SA   \n",
      "4979   Cta.12/12  1.264249e+11   12/6424924/0  726 Fed.Patronal Seguros SA   \n",
      "4986     Cta.4/4  4.274559e+10   4/27455889/0  726 Fed.Patronal Seguros SA   \n",
      "5055    Cta.2/12  1.269427e+10   12/6942678/0  726 Fed.Patronal Seguros SA   \n",
      "5059     Cta.2/4  4.286457e+10   4/28645683/0  726 Fed.Patronal Seguros SA   \n",
      "\n",
      "     Mon.  Mto. Pagado                Origen  Cobrador  Numero De Referencia  \n",
      "1723    $        35.00  PRISMA -VISA DEBITO-         0            24739981.0  \n",
      "1725    $       134.00  PRISMA -VISA DEBITO-         0            24739981.0  \n",
      "1726    $      2174.00  PRISMA -VISA DEBITO-         0            24739981.0  \n",
      "2263    $        26.00          DEB AUT VISA         0            26420694.0  \n",
      "2274    $        33.25          DEB AUT VISA         0            25423644.0  \n",
      "...   ...          ...                   ...       ...                   ...  \n",
      "4971    $        65.01  PRISMA -VISA DEBITO-         0            26941606.0  \n",
      "4979    $       133.06  PRISMA -VISA DEBITO-         0            26941606.0  \n",
      "4986    $      2268.60  PRISMA -VISA DEBITO-         0            26941606.0  \n",
      "5055    $       319.00  PRISMA -VISA DEBITO-         0            28464482.0  \n",
      "5059    $      4323.00  PRISMA -VISA DEBITO-         0            28464482.0  \n",
      "\n",
      "[761 rows x 14 columns]\n"
     ]
    }
   ],
   "source": [
    "filtro_VISA = df[df['Origen'].str.contains('VISA', case=False)]\n",
    "\n",
    "print(filtro_VISA)"
   ]
  },
  {
   "cell_type": "code",
   "execution_count": 38,
   "metadata": {},
   "outputs": [
    {
     "name": "stdout",
     "output_type": "stream",
     "text": [
      "Monto total de cobros con VISA: 986325.44\n"
     ]
    }
   ],
   "source": [
    "monto_total_VISA = filtro_VISA['Mto. Pagado'].sum()\n",
    "print(\"Monto total de cobros con VISA:\", monto_total_VISA)"
   ]
  },
  {
   "cell_type": "code",
   "execution_count": 42,
   "metadata": {},
   "outputs": [
    {
     "name": "stdout",
     "output_type": "stream",
     "text": [
      "                                Mto. Pagado  Numero De Referencia\n",
      "Origen                                                           \n",
      "CAJA SELF PRODUCTORES               7814.70            26615052.0\n",
      "CAJA WEB ASEGURADOS                 3090.00            26455225.0\n",
      "COBRO EXPRESS ONLINE                4804.00            26049822.0\n",
      "COBRO EXPRESS PRODUCTOR ONLINE      9554.00            26652980.0\n",
      "DEB AUT AMEX                        5737.97            26520567.0\n",
      "DEB AUT CBU                        36443.00            26616701.0\n",
      "DEB AUT MASTERCARD                  7840.80            26618327.0\n",
      "DEB AUT NARANJA                     4150.55            26088768.0\n",
      "DEB AUT VISA                       20547.00            26626970.0\n",
      "DEBITO AUTOMATICO                  33020.00            24998649.0\n",
      "MOSTRADOR WEB                       4431.56            26409510.0\n",
      "PAGO FACIL OFFLINE (AJUSTE)         5261.10            26133743.0\n",
      "PAGO FACIL ONLINE                 356618.69            32572576.0\n",
      "PAGO MIS CUENTAS                   33999.00            28917907.0\n",
      "PAGOS LINK                        359040.56            33065265.0\n",
      "PLUSPAGOS ONLINE                    2219.23            24162698.0\n",
      "PRISMA -VISA DEBITO-                9441.00            28464482.0\n",
      "PRODUCTOR                           2538.82            25136760.0\n",
      "PRONTO PAGO ONLINE                  1565.61            25971509.0\n",
      "PROVINCIA NET ONLINE                6948.00            26548633.0\n",
      "RAPIPAGO OFF LINE                   3591.96            25975387.0\n",
      "RAPIPAGO ONLINE                   251443.16            33126461.0\n",
      "VISA PAGO PUNTUAL                   1696.72            25823966.0\n"
     ]
    }
   ],
   "source": [
    "print(df.groupby('Origen')[['Mto. Pagado','Numero De Referencia']].max())"
   ]
  },
  {
   "cell_type": "code",
   "execution_count": 44,
   "metadata": {},
   "outputs": [],
   "source": [
    "bins = [0,134,319,3005,float('inf')]\n",
    "labels = ['Cuota baja','Cuota media','Cuota alta','Cuota muy alta']\n",
    "df['Cuota_Agrupada'] = pd.cut(df['Mto. Pagado'], \n",
    "                             bins = bins, \n",
    "                             labels = labels, \n",
    "                             right = False)"
   ]
  },
  {
   "cell_type": "code",
   "execution_count": 47,
   "metadata": {},
   "outputs": [
    {
     "data": {
      "text/html": [
       "<div>\n",
       "<style scoped>\n",
       "    .dataframe tbody tr th:only-of-type {\n",
       "        vertical-align: middle;\n",
       "    }\n",
       "\n",
       "    .dataframe tbody tr th {\n",
       "        vertical-align: top;\n",
       "    }\n",
       "\n",
       "    .dataframe thead th {\n",
       "        text-align: right;\n",
       "    }\n",
       "</style>\n",
       "<table border=\"1\" class=\"dataframe\">\n",
       "  <thead>\n",
       "    <tr style=\"text-align: right;\">\n",
       "      <th></th>\n",
       "      <th>ID</th>\n",
       "      <th>Fec. Ing.</th>\n",
       "      <th>Ingreso</th>\n",
       "      <th>Fec. Cobro</th>\n",
       "      <th>Asegurado</th>\n",
       "      <th>Cuota</th>\n",
       "      <th>Recibo</th>\n",
       "      <th>Póliza</th>\n",
       "      <th>Compañía</th>\n",
       "      <th>Mon.</th>\n",
       "      <th>Mto. Pagado</th>\n",
       "      <th>Origen</th>\n",
       "      <th>Cobrador</th>\n",
       "      <th>Numero De Referencia</th>\n",
       "      <th>Cuota_Agrupada</th>\n",
       "    </tr>\n",
       "  </thead>\n",
       "  <tbody>\n",
       "    <tr>\n",
       "      <th>0</th>\n",
       "      <td>292</td>\n",
       "      <td>02/01/2020</td>\n",
       "      <td>15791132</td>\n",
       "      <td>02/01/2020</td>\n",
       "      <td>CARDOSO JORGE LUIS</td>\n",
       "      <td>Cta.10/12</td>\n",
       "      <td>1.920114e+12</td>\n",
       "      <td>19/20113509/0</td>\n",
       "      <td>726 Fed.Patronal Seguros SA</td>\n",
       "      <td>$</td>\n",
       "      <td>25.0</td>\n",
       "      <td>MOSTRADOR WEB</td>\n",
       "      <td>0</td>\n",
       "      <td>23612280.0</td>\n",
       "      <td>Cuota baja</td>\n",
       "    </tr>\n",
       "    <tr>\n",
       "      <th>1</th>\n",
       "      <td>411</td>\n",
       "      <td>02/01/2020</td>\n",
       "      <td>15790434</td>\n",
       "      <td>02/01/2020</td>\n",
       "      <td>CULIAT LUCAS MATIAS</td>\n",
       "      <td>Cta.12/12</td>\n",
       "      <td>1.919974e+12</td>\n",
       "      <td>19/19973801/0</td>\n",
       "      <td>726 Fed.Patronal Seguros SA</td>\n",
       "      <td>$</td>\n",
       "      <td>25.0</td>\n",
       "      <td>RAPIPAGO ONLINE</td>\n",
       "      <td>0</td>\n",
       "      <td>23464223.0</td>\n",
       "      <td>Cuota baja</td>\n",
       "    </tr>\n",
       "    <tr>\n",
       "      <th>2</th>\n",
       "      <td>1473</td>\n",
       "      <td>02/01/2020</td>\n",
       "      <td>15790429</td>\n",
       "      <td>02/01/2020</td>\n",
       "      <td>VALDIVIEZO JORGE FERNANDO</td>\n",
       "      <td>Cta.12/12</td>\n",
       "      <td>1.919961e+12</td>\n",
       "      <td>19/19961396/0</td>\n",
       "      <td>726 Fed.Patronal Seguros SA</td>\n",
       "      <td>$</td>\n",
       "      <td>25.0</td>\n",
       "      <td>PAGO FACIL ONLINE</td>\n",
       "      <td>0</td>\n",
       "      <td>23451026.0</td>\n",
       "      <td>Cuota baja</td>\n",
       "    </tr>\n",
       "    <tr>\n",
       "      <th>3</th>\n",
       "      <td>1601</td>\n",
       "      <td>02/01/2020</td>\n",
       "      <td>15790434</td>\n",
       "      <td>02/01/2020</td>\n",
       "      <td>BURGOS RAMON EDUARDO</td>\n",
       "      <td>Cta.10/12</td>\n",
       "      <td>1.920194e+12</td>\n",
       "      <td>19/20193608/0</td>\n",
       "      <td>726 Fed.Patronal Seguros SA</td>\n",
       "      <td>$</td>\n",
       "      <td>25.0</td>\n",
       "      <td>RAPIPAGO ONLINE</td>\n",
       "      <td>0</td>\n",
       "      <td>23697050.0</td>\n",
       "      <td>Cuota baja</td>\n",
       "    </tr>\n",
       "    <tr>\n",
       "      <th>4</th>\n",
       "      <td>2636</td>\n",
       "      <td>02/01/2020</td>\n",
       "      <td>15790434</td>\n",
       "      <td>02/01/2020</td>\n",
       "      <td>MARTINEZ LUIS ALBERTO</td>\n",
       "      <td>Cta.12/12</td>\n",
       "      <td>1.919988e+12</td>\n",
       "      <td>19/19987571/0</td>\n",
       "      <td>726 Fed.Patronal Seguros SA</td>\n",
       "      <td>$</td>\n",
       "      <td>25.0</td>\n",
       "      <td>RAPIPAGO ONLINE</td>\n",
       "      <td>0</td>\n",
       "      <td>23478749.0</td>\n",
       "      <td>Cuota baja</td>\n",
       "    </tr>\n",
       "  </tbody>\n",
       "</table>\n",
       "</div>"
      ],
      "text/plain": [
       "     ID   Fec. Ing.   Ingreso  Fec. Cobro                   Asegurado  \\\n",
       "0   292  02/01/2020  15791132  02/01/2020         CARDOSO JORGE LUIS    \n",
       "1   411  02/01/2020  15790434  02/01/2020        CULIAT LUCAS MATIAS    \n",
       "2  1473  02/01/2020  15790429  02/01/2020  VALDIVIEZO JORGE FERNANDO    \n",
       "3  1601  02/01/2020  15790434  02/01/2020       BURGOS RAMON EDUARDO    \n",
       "4  2636  02/01/2020  15790434  02/01/2020      MARTINEZ LUIS ALBERTO    \n",
       "\n",
       "        Cuota        Recibo         Póliza                     Compañía Mon.  \\\n",
       "0   Cta.10/12  1.920114e+12  19/20113509/0  726 Fed.Patronal Seguros SA    $   \n",
       "1   Cta.12/12  1.919974e+12  19/19973801/0  726 Fed.Patronal Seguros SA    $   \n",
       "2   Cta.12/12  1.919961e+12  19/19961396/0  726 Fed.Patronal Seguros SA    $   \n",
       "3   Cta.10/12  1.920194e+12  19/20193608/0  726 Fed.Patronal Seguros SA    $   \n",
       "4   Cta.12/12  1.919988e+12  19/19987571/0  726 Fed.Patronal Seguros SA    $   \n",
       "\n",
       "   Mto. Pagado             Origen  Cobrador  Numero De Referencia  \\\n",
       "0         25.0      MOSTRADOR WEB         0            23612280.0   \n",
       "1         25.0    RAPIPAGO ONLINE         0            23464223.0   \n",
       "2         25.0  PAGO FACIL ONLINE         0            23451026.0   \n",
       "3         25.0    RAPIPAGO ONLINE         0            23697050.0   \n",
       "4         25.0    RAPIPAGO ONLINE         0            23478749.0   \n",
       "\n",
       "  Cuota_Agrupada  \n",
       "0     Cuota baja  \n",
       "1     Cuota baja  \n",
       "2     Cuota baja  \n",
       "3     Cuota baja  \n",
       "4     Cuota baja  "
      ]
     },
     "execution_count": 47,
     "metadata": {},
     "output_type": "execute_result"
    }
   ],
   "source": [
    "df.head()"
   ]
  },
  {
   "cell_type": "code",
   "execution_count": 48,
   "metadata": {},
   "outputs": [
    {
     "data": {
      "text/plain": [
       "Cuota_Agrupada\n",
       "Cuota alta        2965\n",
       "Cuota muy alta    2755\n",
       "Cuota media       2662\n",
       "Cuota baja        2619\n",
       "Name: count, dtype: int64"
      ]
     },
     "execution_count": 48,
     "metadata": {},
     "output_type": "execute_result"
    }
   ],
   "source": [
    "df['Cuota_Agrupada'].value_counts()"
   ]
  }
 ],
 "metadata": {
  "kernelspec": {
   "display_name": "base",
   "language": "python",
   "name": "python3"
  },
  "language_info": {
   "codemirror_mode": {
    "name": "ipython",
    "version": 3
   },
   "file_extension": ".py",
   "mimetype": "text/x-python",
   "name": "python",
   "nbconvert_exporter": "python",
   "pygments_lexer": "ipython3",
   "version": "3.11.7"
  }
 },
 "nbformat": 4,
 "nbformat_minor": 2
}
